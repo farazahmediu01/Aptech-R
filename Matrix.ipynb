{
 "cells": [
  {
   "cell_type": "markdown",
   "metadata": {},
   "source": [
    "# Matrices in `R`\n",
    "- Vector is a 1D array of data elements of same data type.\n",
    "- Matrix is a 2D array of data elements of same data type. "
   ]
  },
  {
   "cell_type": "code",
   "execution_count": 4,
   "metadata": {
    "vscode": {
     "languageId": "r"
    }
   },
   "outputs": [
    {
     "name": "stdout",
     "output_type": "stream",
     "text": [
      "     [,1] [,2] [,3]\n",
      "[1,]    1    6   11\n",
      "[2,]    2    7   12\n",
      "[3,]    3    8   13\n",
      "[4,]    4    9   14\n",
      "[5,]    5   10   15\n"
     ]
    }
   ],
   "source": [
    "m.a <- matrix(1:15, nrow = 3, ncol = 5)\n",
    "print(m)\n"
   ]
  },
  {
   "cell_type": "code",
   "execution_count": 10,
   "metadata": {
    "vscode": {
     "languageId": "r"
    }
   },
   "outputs": [
    {
     "name": "stdout",
     "output_type": "stream",
     "text": [
      "     [,1] [,2] [,3]\n",
      "[1,]    1    6   11\n",
      "[2,]    2    7   12\n",
      "[3,]    3    8   13\n",
      "[4,]    4    9   14\n",
      "[5,]    5   10   15\n"
     ]
    }
   ],
   "source": [
    "m.b <- matrix(1:15, nrow = 5)\n",
    "print(m)\n"
   ]
  },
  {
   "cell_type": "code",
   "execution_count": 9,
   "metadata": {
    "vscode": {
     "languageId": "r"
    }
   },
   "outputs": [
    {
     "name": "stdout",
     "output_type": "stream",
     "text": [
      "     [,1] [,2] [,3] [,4] [,5]\n",
      "[1,]    1    2    3    4    5\n",
      "[2,]    6    7    8    9   10\n",
      "[3,]   11   12   13   14   15\n"
     ]
    }
   ],
   "source": [
    "m.c <- matrix(1:15, nrow = 3, ncol = 5, byrow = TRUE)\n",
    "print(m.c)\n"
   ]
  },
  {
   "cell_type": "code",
   "execution_count": 12,
   "metadata": {
    "vscode": {
     "languageId": "r"
    }
   },
   "outputs": [
    {
     "name": "stdout",
     "output_type": "stream",
     "text": [
      "     [,1] [,2] [,3]\n",
      "[1,]    1    3    2\n",
      "[2,]    2    1    3\n"
     ]
    }
   ],
   "source": [
    "m <- matrix(1:3, nrow = 2, ncol = 3)\n",
    "print(m)\n"
   ]
  },
  {
   "cell_type": "code",
   "execution_count": 13,
   "metadata": {
    "vscode": {
     "languageId": "r"
    }
   },
   "outputs": [
    {
     "name": "stderr",
     "output_type": "stream",
     "text": [
      "Warning message in matrix(1:4, nrow = 2, ncol = 3):\n",
      "\"data length [4] is not a sub-multiple or multiple of the number of columns [3]\"\n"
     ]
    },
    {
     "name": "stdout",
     "output_type": "stream",
     "text": [
      "     [,1] [,2] [,3]\n",
      "[1,]    1    3    1\n",
      "[2,]    2    4    2\n"
     ]
    }
   ],
   "source": [
    "m <- matrix(1:4, nrow = 2, ncol = 3)\n",
    "print(m)\n"
   ]
  },
  {
   "cell_type": "markdown",
   "metadata": {},
   "source": [
    "### Another way to create a matrix.\n",
    "- rbind()\n",
    "- cbind()\n",
    "- These are very handy in some situation.\n",
    "- We can create new and modify existing matrices. "
   ]
  },
  {
   "cell_type": "code",
   "execution_count": 23,
   "metadata": {
    "vscode": {
     "languageId": "r"
    }
   },
   "outputs": [
    {
     "name": "stdout",
     "output_type": "stream",
     "text": [
      "     [,1] [,2] [,3] [,4] [,5]\n",
      "[1,]    1    2    3    4    5\n",
      "[2,]    6    7    8    9   10\n",
      "[3,]   11   12   13   14   15\n"
     ]
    }
   ],
   "source": [
    "\n",
    "rb_matrix <- rbind(1:5, 6:10, 11:15)\n",
    "print(rb_matrix)\n"
   ]
  },
  {
   "cell_type": "code",
   "execution_count": 24,
   "metadata": {
    "vscode": {
     "languageId": "r"
    }
   },
   "outputs": [
    {
     "name": "stdout",
     "output_type": "stream",
     "text": [
      "     [,1] [,2] [,3]\n",
      "[1,]    1    6   11\n",
      "[2,]    2    7   12\n",
      "[3,]    3    8   13\n",
      "[4,]    4    9   14\n",
      "[5,]    5   10   15\n"
     ]
    }
   ],
   "source": [
    "cb_matrix <- cbind(1:5, 6:10, 11:15)\n",
    "print(cb_matrix)"
   ]
  },
  {
   "cell_type": "code",
   "execution_count": 53,
   "metadata": {
    "vscode": {
     "languageId": "r"
    }
   },
   "outputs": [
    {
     "name": "stdout",
     "output_type": "stream",
     "text": [
      "     [,1] [,2] [,3] [,4] [,5]\n",
      "[1,]    1    6   11   16   21\n",
      "[2,]    2    7   12   17   22\n",
      "[3,]    3    8   13   18   23\n",
      "[4,]    4    9   14   19   24\n",
      "[5,]    5   10   15   20   25\n"
     ]
    }
   ],
   "source": [
    "m <- matrix(1:25, nrow=5)\n",
    "print(m)"
   ]
  },
  {
   "cell_type": "code",
   "execution_count": 29,
   "metadata": {
    "vscode": {
     "languageId": "r"
    }
   },
   "outputs": [
    {
     "name": "stdout",
     "output_type": "stream",
     "text": [
      "     [,1] [,2] [,3] [,4] [,5] [,6]\n",
      "[1,]    1    6   11   16   21    1\n",
      "[2,]    2    7   12   17   22    2\n",
      "[3,]    3    8   13   18   23    3\n",
      "[4,]    4    9   14   19   24    4\n",
      "[5,]    5   10   15   20   25    5\n"
     ]
    }
   ],
   "source": [
    "print(cbind(m, 1:5))"
   ]
  },
  {
   "cell_type": "code",
   "execution_count": 30,
   "metadata": {
    "vscode": {
     "languageId": "r"
    }
   },
   "outputs": [
    {
     "name": "stdout",
     "output_type": "stream",
     "text": [
      "     [,1] [,2] [,3] [,4] [,5]\n",
      "[1,]    1    6   11   16   21\n",
      "[2,]    2    7   12   17   22\n",
      "[3,]    3    8   13   18   23\n",
      "[4,]    4    9   14   19   24\n",
      "[5,]    5   10   15   20   25\n",
      "[6,]    1    2    3    4    5\n"
     ]
    }
   ],
   "source": [
    "print(rbind(m, 1:5))"
   ]
  },
  {
   "cell_type": "code",
   "execution_count": 45,
   "metadata": {
    "vscode": {
     "languageId": "r"
    }
   },
   "outputs": [
    {
     "name": "stdout",
     "output_type": "stream",
     "text": [
      "     [,1] [,2] [,3]\n",
      "[1,]    1    6   11\n",
      "[2,]    2    7   12\n",
      "[3,]    3    8   13\n",
      "[4,]    4    9   14\n",
      "[5,]    5   10   15\n",
      "     [,1] [,2] [,3]\n",
      "[1,] \"A\"  \"F\"  \"K\" \n",
      "[2,] \"B\"  \"G\"  \"L\" \n",
      "[3,] \"C\"  \"H\"  \"M\" \n",
      "[4,] \"D\"  \"I\"  \"N\" \n",
      "[5,] \"E\"  \"J\"  \"O\" \n"
     ]
    }
   ],
   "source": [
    "num <-  matrix(1:15, ncol=3)\n",
    "char<- matrix(LETTERS[1:15], ncol=3)\n",
    "print(num)\n",
    "print(char)"
   ]
  },
  {
   "cell_type": "code",
   "execution_count": 47,
   "metadata": {
    "vscode": {
     "languageId": "r"
    }
   },
   "outputs": [
    {
     "name": "stdout",
     "output_type": "stream",
     "text": [
      "     [,1] [,2] [,3] [,4] [,5] [,6]\n",
      "[1,] \"1\"  \"6\"  \"11\" \"A\"  \"F\"  \"K\" \n",
      "[2,] \"2\"  \"7\"  \"12\" \"B\"  \"G\"  \"L\" \n",
      "[3,] \"3\"  \"8\"  \"13\" \"C\"  \"H\"  \"M\" \n",
      "[4,] \"4\"  \"9\"  \"14\" \"D\"  \"I\"  \"N\" \n",
      "[5,] \"5\"  \"10\" \"15\" \"E\"  \"J\"  \"O\" \n"
     ]
    }
   ],
   "source": [
    "print(cbind(num,char))"
   ]
  },
  {
   "cell_type": "code",
   "execution_count": 48,
   "metadata": {
    "vscode": {
     "languageId": "r"
    }
   },
   "outputs": [
    {
     "name": "stdout",
     "output_type": "stream",
     "text": [
      "      [,1] [,2] [,3]\n",
      " [1,] \"1\"  \"6\"  \"11\"\n",
      " [2,] \"2\"  \"7\"  \"12\"\n",
      " [3,] \"3\"  \"8\"  \"13\"\n",
      " [4,] \"4\"  \"9\"  \"14\"\n",
      " [5,] \"5\"  \"10\" \"15\"\n",
      " [6,] \"A\"  \"F\"  \"K\" \n",
      " [7,] \"B\"  \"G\"  \"L\" \n",
      " [8,] \"C\"  \"H\"  \"M\" \n",
      " [9,] \"D\"  \"I\"  \"N\" \n",
      "[10,] \"E\"  \"J\"  \"O\" \n"
     ]
    }
   ],
   "source": [
    "print(rbind(num,char))"
   ]
  },
  {
   "cell_type": "markdown",
   "metadata": {},
   "source": [
    "### Naming a Matrix\n",
    "- rownames()\n",
    "- colnames()\n",
    "- matrix(dimnames)"
   ]
  },
  {
   "cell_type": "code",
   "execution_count": 33,
   "metadata": {
    "vscode": {
     "languageId": "r"
    }
   },
   "outputs": [
    {
     "name": "stdout",
     "output_type": "stream",
     "text": [
      "   [,1] [,2] [,3] [,4] [,5]\n",
      "r1    1    6   11   16   21\n",
      "r2    2    7   12   17   22\n",
      "r3    3    8   13   18   23\n",
      "r4    4    9   14   19   24\n",
      "r5    5   10   15   20   25\n"
     ]
    }
   ],
   "source": [
    "rownames(m) <- c(\"r1\", \"r2\", \"r3\", \"r4\", \"r5\")\n",
    "print(m)\n"
   ]
  },
  {
   "cell_type": "code",
   "execution_count": 34,
   "metadata": {
    "vscode": {
     "languageId": "r"
    }
   },
   "outputs": [
    {
     "name": "stdout",
     "output_type": "stream",
     "text": [
      "   c1 c2 c3 c4 c5\n",
      "r1  1  6 11 16 21\n",
      "r2  2  7 12 17 22\n",
      "r3  3  8 13 18 23\n",
      "r4  4  9 14 19 24\n",
      "r5  5 10 15 20 25\n"
     ]
    }
   ],
   "source": [
    "colnames(m) <- c(\"c1\", \"c2\", \"c3\", \"c4\", \"c5\")\n",
    "print(m)\n"
   ]
  },
  {
   "cell_type": "code",
   "execution_count": 37,
   "metadata": {
    "vscode": {
     "languageId": "r"
    }
   },
   "outputs": [
    {
     "name": "stdout",
     "output_type": "stream",
     "text": [
      "   c1 c2 c3\n",
      "r1  1  2  3\n",
      "r2  4  5  6\n",
      "r3  7  8  9\n",
      "r4 10 11 12\n",
      "r5 13 14 15\n"
     ]
    }
   ],
   "source": [
    "n <- matrix(1:15, nrow=5, byrow=T,\n",
    "            dimnames = list(c(\"r1\",\"r2\",\"r3\",\"r4\",\"r5\"),\n",
    "                            c(\"c1\",\"c2\",\"c3\")))\n",
    "print(n)"
   ]
  },
  {
   "cell_type": "markdown",
   "metadata": {},
   "source": [
    "## Getting values\n",
    "\n",
    "Remeber that your are dealing with a two dimentional data structure so things may get complicated at a certain level."
   ]
  },
  {
   "cell_type": "code",
   "execution_count": 59,
   "metadata": {
    "vscode": {
     "languageId": "r"
    }
   },
   "outputs": [
    {
     "name": "stdout",
     "output_type": "stream",
     "text": [
      "   c1 c2 c3 c4 c5 c6\n",
      "r1  1  2  3  4  5  6\n",
      "r2  7  8  9 10 11 12\n",
      "r3 13 14 15 16 17 18\n",
      "r4 19 20 21 22 23 24\n",
      "r5 25 26 27 28 29 30\n",
      "r6 31 32 33 34 35 36\n"
     ]
    }
   ],
   "source": [
    "m <- matrix(1:36, nrow=6, byrow=TRUE,\n",
    "            dimnames=list(c(\"r1\",\"r2\",\"r3\",\"r4\",\"r5\",\"r6\"),\n",
    "                          c(\"c1\",\"c2\",\"c3\",\"c4\",\"c5\",\"c6\")))\n",
    "print(m)"
   ]
  },
  {
   "cell_type": "code",
   "execution_count": 95,
   "metadata": {
    "vscode": {
     "languageId": "r"
    }
   },
   "outputs": [
    {
     "data": {
      "text/html": [
       "2"
      ],
      "text/latex": [
       "2"
      ],
      "text/markdown": [
       "2"
      ],
      "text/plain": [
       "[1] 2"
      ]
     },
     "metadata": {},
     "output_type": "display_data"
    }
   ],
   "source": [
    "#Selecting one element.\n",
    "# m[1,6] # 1row, 6column \n",
    "# m[2,5] # 2row, 5column \n",
    "# m[3,4] # 3row, 4column\n",
    "m[7]     # Go element by element COLUMN wise.\n",
    "\n"
   ]
  },
  {
   "cell_type": "code",
   "execution_count": 109,
   "metadata": {
    "vscode": {
     "languageId": "r"
    }
   },
   "outputs": [
    {
     "name": "stdout",
     "output_type": "stream",
     "text": [
      "   c1 c2 c3 c4 c5 c6\n",
      "r1  1  2  3  4  5  6\n",
      "r2  7  8  9 10 11 12\n"
     ]
    }
   ],
   "source": [
    "# Selecting one Row or one Column.\n",
    "\n",
    "# print(m[1,])     # select 1 row.\n",
    "# print(m[1, 1:6]) # select 1 row.\n",
    "\n",
    "# print(m[,1])     # select 1 column\n",
    "# print(m[1, 1:6]) # select 1 row."
   ]
  },
  {
   "cell_type": "code",
   "execution_count": 119,
   "metadata": {
    "vscode": {
     "languageId": "r"
    }
   },
   "outputs": [
    {
     "name": "stdout",
     "output_type": "stream",
     "text": [
      "c1 c2 c3 c4 c5 c6 \n",
      " 1  2  3  4  5  6 \n"
     ]
    }
   ],
   "source": [
    "# Selecting multiple Rows and multiple Columns.\n",
    "# m\n",
    "print(m[1, 1:6])"
   ]
  },
  {
   "cell_type": "code",
   "execution_count": 73,
   "metadata": {
    "vscode": {
     "languageId": "r"
    }
   },
   "outputs": [
    {
     "data": {
      "text/html": [
       "FALSE"
      ],
      "text/latex": [
       "FALSE"
      ],
      "text/markdown": [
       "FALSE"
      ],
      "text/plain": [
       "[1] FALSE"
      ]
     },
     "metadata": {},
     "output_type": "display_data"
    },
    {
     "data": {
      "text/html": [
       "TRUE"
      ],
      "text/latex": [
       "TRUE"
      ],
      "text/markdown": [
       "TRUE"
      ],
      "text/plain": [
       "[1] TRUE"
      ]
     },
     "metadata": {},
     "output_type": "display_data"
    }
   ],
   "source": [
    "# A fact.\n",
    "is.matrix(m[3,1:6])\n",
    "is.vector(class(m[3,1:6]))"
   ]
  },
  {
   "cell_type": "code",
   "execution_count": 130,
   "metadata": {
    "vscode": {
     "languageId": "r"
    }
   },
   "outputs": [
    {
     "data": {
      "text/html": [
       "<table class=\"dataframe\">\n",
       "<caption>A matrix: 3 × 6 of type int</caption>\n",
       "<thead>\n",
       "\t<tr><th></th><th scope=col>c1</th><th scope=col>c2</th><th scope=col>c3</th><th scope=col>c4</th><th scope=col>c5</th><th scope=col>c6</th></tr>\n",
       "</thead>\n",
       "<tbody>\n",
       "\t<tr><th scope=row>r1</th><td> 1</td><td> 2</td><td> 3</td><td> 4</td><td> 5</td><td> 6</td></tr>\n",
       "\t<tr><th scope=row>r3</th><td>13</td><td>14</td><td>15</td><td>16</td><td>17</td><td>18</td></tr>\n",
       "\t<tr><th scope=row>r5</th><td>25</td><td>26</td><td>27</td><td>28</td><td>29</td><td>30</td></tr>\n",
       "</tbody>\n",
       "</table>\n"
      ],
      "text/latex": [
       "A matrix: 3 × 6 of type int\n",
       "\\begin{tabular}{r|llllll}\n",
       "  & c1 & c2 & c3 & c4 & c5 & c6\\\\\n",
       "\\hline\n",
       "\tr1 &  1 &  2 &  3 &  4 &  5 &  6\\\\\n",
       "\tr3 & 13 & 14 & 15 & 16 & 17 & 18\\\\\n",
       "\tr5 & 25 & 26 & 27 & 28 & 29 & 30\\\\\n",
       "\\end{tabular}\n"
      ],
      "text/markdown": [
       "\n",
       "A matrix: 3 × 6 of type int\n",
       "\n",
       "| <!--/--> | c1 | c2 | c3 | c4 | c5 | c6 |\n",
       "|---|---|---|---|---|---|---|\n",
       "| r1 |  1 |  2 |  3 |  4 |  5 |  6 |\n",
       "| r3 | 13 | 14 | 15 | 16 | 17 | 18 |\n",
       "| r5 | 25 | 26 | 27 | 28 | 29 | 30 |\n",
       "\n"
      ],
      "text/plain": [
       "   c1 c2 c3 c4 c5 c6\n",
       "r1  1  2  3  4  5  6\n",
       "r3 13 14 15 16 17 18\n",
       "r5 25 26 27 28 29 30"
      ]
     },
     "metadata": {},
     "output_type": "display_data"
    },
    {
     "data": {
      "text/html": [
       "<table class=\"dataframe\">\n",
       "<caption>A matrix: 3 × 6 of type int</caption>\n",
       "<thead>\n",
       "\t<tr><th></th><th scope=col>c1</th><th scope=col>c2</th><th scope=col>c3</th><th scope=col>c4</th><th scope=col>c5</th><th scope=col>c6</th></tr>\n",
       "</thead>\n",
       "<tbody>\n",
       "\t<tr><th scope=row>r1</th><td> 1</td><td> 2</td><td> 3</td><td> 4</td><td> 5</td><td> 6</td></tr>\n",
       "\t<tr><th scope=row>r3</th><td>13</td><td>14</td><td>15</td><td>16</td><td>17</td><td>18</td></tr>\n",
       "\t<tr><th scope=row>r5</th><td>25</td><td>26</td><td>27</td><td>28</td><td>29</td><td>30</td></tr>\n",
       "</tbody>\n",
       "</table>\n"
      ],
      "text/latex": [
       "A matrix: 3 × 6 of type int\n",
       "\\begin{tabular}{r|llllll}\n",
       "  & c1 & c2 & c3 & c4 & c5 & c6\\\\\n",
       "\\hline\n",
       "\tr1 &  1 &  2 &  3 &  4 &  5 &  6\\\\\n",
       "\tr3 & 13 & 14 & 15 & 16 & 17 & 18\\\\\n",
       "\tr5 & 25 & 26 & 27 & 28 & 29 & 30\\\\\n",
       "\\end{tabular}\n"
      ],
      "text/markdown": [
       "\n",
       "A matrix: 3 × 6 of type int\n",
       "\n",
       "| <!--/--> | c1 | c2 | c3 | c4 | c5 | c6 |\n",
       "|---|---|---|---|---|---|---|\n",
       "| r1 |  1 |  2 |  3 |  4 |  5 |  6 |\n",
       "| r3 | 13 | 14 | 15 | 16 | 17 | 18 |\n",
       "| r5 | 25 | 26 | 27 | 28 | 29 | 30 |\n",
       "\n"
      ],
      "text/plain": [
       "   c1 c2 c3 c4 c5 c6\n",
       "r1  1  2  3  4  5  6\n",
       "r3 13 14 15 16 17 18\n",
       "r5 25 26 27 28 29 30"
      ]
     },
     "metadata": {},
     "output_type": "display_data"
    }
   ],
   "source": [
    "# Selecting values of your choice instead of whole row or a whole column\n",
    "\n",
    "# print(m[1,c(1,3,6)]      # select 1,3,5 rows with all columns\n",
    "m[c(1,3,5),]               # select 1,3,5 rows with all columns\n",
    "m[c(\"r1\",\"r3\",\"r5\"),] "
   ]
  },
  {
   "cell_type": "markdown",
   "metadata": {},
   "source": [
    "## Matrix Arithimetic"
   ]
  },
  {
   "cell_type": "code",
   "execution_count": 137,
   "metadata": {
    "vscode": {
     "languageId": "r"
    }
   },
   "outputs": [
    {
     "data": {
      "text/html": [
       "<table class=\"dataframe\">\n",
       "<caption>A matrix: 5 × 3 of type int</caption>\n",
       "<tbody>\n",
       "\t<tr><td> 1</td><td> 2</td><td> 3</td></tr>\n",
       "\t<tr><td> 4</td><td> 5</td><td> 6</td></tr>\n",
       "\t<tr><td> 7</td><td> 8</td><td> 9</td></tr>\n",
       "\t<tr><td>10</td><td>11</td><td>12</td></tr>\n",
       "\t<tr><td>13</td><td>14</td><td>15</td></tr>\n",
       "</tbody>\n",
       "</table>\n"
      ],
      "text/latex": [
       "A matrix: 5 × 3 of type int\n",
       "\\begin{tabular}{lll}\n",
       "\t  1 &  2 &  3\\\\\n",
       "\t  4 &  5 &  6\\\\\n",
       "\t  7 &  8 &  9\\\\\n",
       "\t 10 & 11 & 12\\\\\n",
       "\t 13 & 14 & 15\\\\\n",
       "\\end{tabular}\n"
      ],
      "text/markdown": [
       "\n",
       "A matrix: 5 × 3 of type int\n",
       "\n",
       "|  1 |  2 |  3 |\n",
       "|  4 |  5 |  6 |\n",
       "|  7 |  8 |  9 |\n",
       "| 10 | 11 | 12 |\n",
       "| 13 | 14 | 15 |\n",
       "\n"
      ],
      "text/plain": [
       "     [,1] [,2] [,3]\n",
       "[1,]  1    2    3  \n",
       "[2,]  4    5    6  \n",
       "[3,]  7    8    9  \n",
       "[4,] 10   11   12  \n",
       "[5,] 13   14   15  "
      ]
     },
     "metadata": {},
     "output_type": "display_data"
    }
   ],
   "source": [
    "a <- matrix(1:15,nrow=5, byrow=TRUE)"
   ]
  },
  {
   "cell_type": "code",
   "execution_count": 149,
   "metadata": {
    "vscode": {
     "languageId": "r"
    }
   },
   "outputs": [
    {
     "data": {
      "text/html": [
       "<table class=\"dataframe\">\n",
       "<caption>A matrix: 5 × 3 of type dbl</caption>\n",
       "<tbody>\n",
       "\t<tr><td>-15</td><td>-14</td><td>-13</td></tr>\n",
       "\t<tr><td>-12</td><td>-11</td><td>-10</td></tr>\n",
       "\t<tr><td> -9</td><td> -8</td><td> -7</td></tr>\n",
       "\t<tr><td> -6</td><td> -5</td><td> -4</td></tr>\n",
       "\t<tr><td> -3</td><td> -2</td><td> -1</td></tr>\n",
       "</tbody>\n",
       "</table>\n"
      ],
      "text/latex": [
       "A matrix: 5 × 3 of type dbl\n",
       "\\begin{tabular}{lll}\n",
       "\t -15 & -14 & -13\\\\\n",
       "\t -12 & -11 & -10\\\\\n",
       "\t  -9 &  -8 &  -7\\\\\n",
       "\t  -6 &  -5 &  -4\\\\\n",
       "\t  -3 &  -2 &  -1\\\\\n",
       "\\end{tabular}\n"
      ],
      "text/markdown": [
       "\n",
       "A matrix: 5 × 3 of type dbl\n",
       "\n",
       "| -15 | -14 | -13 |\n",
       "| -12 | -11 | -10 |\n",
       "|  -9 |  -8 |  -7 |\n",
       "|  -6 |  -5 |  -4 |\n",
       "|  -3 |  -2 |  -1 |\n",
       "\n"
      ],
      "text/plain": [
       "     [,1] [,2] [,3]\n",
       "[1,] -15  -14  -13 \n",
       "[2,] -12  -11  -10 \n",
       "[3,]  -9   -8   -7 \n",
       "[4,]  -6   -5   -4 \n",
       "[5,]  -3   -2   -1 "
      ]
     },
     "metadata": {},
     "output_type": "display_data"
    }
   ],
   "source": [
    "a - 16"
   ]
  }
 ],
 "metadata": {
  "kernelspec": {
   "display_name": "R",
   "language": "R",
   "name": "ir"
  },
  "language_info": {
   "codemirror_mode": "r",
   "file_extension": ".r",
   "mimetype": "text/x-r-source",
   "name": "R",
   "pygments_lexer": "r",
   "version": "4.2.0"
  },
  "orig_nbformat": 4,
  "vscode": {
   "interpreter": {
    "hash": "f6246b25e200e4c5124e3e61789ac81350562f0761bbcf92ad9e48654207659c"
   }
  }
 },
 "nbformat": 4,
 "nbformat_minor": 2
}
